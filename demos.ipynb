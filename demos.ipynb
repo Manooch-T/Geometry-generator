{
 "cells": [
  {
   "cell_type": "code",
   "execution_count": null,
   "metadata": {},
   "outputs": [],
   "source": [
    "import dolfin\n",
    "import math\n",
    "import os\n",
    "\n",
    "import micro_poro_structure_generator as gen\n",
    "%load_ext autoreload\n",
    "%autoreload 2"
   ]
  },
  {
   "attachments": {},
   "cell_type": "markdown",
   "metadata": {},
   "source": [
    "## 2D"
   ]
  },
  {
   "attachments": {},
   "cell_type": "markdown",
   "metadata": {},
   "source": [
    "### Parallelogram with circular inclusions"
   ]
  },
  {
   "cell_type": "code",
   "execution_count": null,
   "metadata": {},
   "outputs": [],
   "source": [
    "mesh_filename = \"mesh-2D_parallelogram_w_circular_inclusions\"\n",
    "\n",
    "gen.generate_mesh_2D_parallelogram_w_circular_inclusions(\n",
    "    mesh_filename = mesh_filename,\n",
    "    width = 1.,\n",
    "    angle = math.pi/3,\n",
    "    r = 1./10,\n",
    "    lcar = 1./30,\n",
    "    shift_x = 0.,\n",
    "    shift_y = 0.)\n",
    "\n",
    "mesh = dolfin.Mesh(mesh_filename+\".xml\")\n",
    "dolfin.plot(mesh)"
   ]
  },
  {
   "attachments": {},
   "cell_type": "markdown",
   "metadata": {},
   "source": [
    "### Rectangle with circular inclusions"
   ]
  },
  {
   "cell_type": "code",
   "execution_count": null,
   "metadata": {},
   "outputs": [],
   "source": [
    "mesh_filename = \"mesh-2D_rectangle_w_circular_inclusions\"\n",
    "\n",
    "gen.generate_mesh_2D_rectangle_w_circular_inclusions(\n",
    "    mesh_filename = mesh_filename,\n",
    "    width = 1.,\n",
    "    r = 1./10,\n",
    "    lcar = 1./30,\n",
    "    shift_x = 0.,\n",
    "    shift_y = 0.)\n",
    "\n",
    "mesh = dolfin.Mesh(mesh_filename+\".xml\")\n",
    "dolfin.plot(mesh)"
   ]
  },
  {
   "attachments": {},
   "cell_type": "markdown",
   "metadata": {},
   "source": [
    "### Square with circular inclusions"
   ]
  },
  {
   "cell_type": "code",
   "execution_count": null,
   "metadata": {},
   "outputs": [],
   "source": [
    "mesh_filename = \"mesh-2D_square_w_circular_inclusions\"\n",
    "\n",
    "gen.generate_mesh_2D_square_w_circular_inclusions(\n",
    "    mesh_filename = mesh_filename,\n",
    "    width = 1.,\n",
    "    r = 1./10,\n",
    "    lcar = 1./30,\n",
    "    shift_x = 0.,\n",
    "    shift_y = 0.)\n",
    "\n",
    "mesh = dolfin.Mesh(mesh_filename+\".xml\")\n",
    "dolfin.plot(mesh)"
   ]
  },
  {
   "cell_type": "code",
   "execution_count": null,
   "metadata": {},
   "outputs": [],
   "source": [
    "mesh_filename = \"mesh-2D_square_w_circular_inclusions\"\n",
    "\n",
    "gen.generate_mesh_2D_square_w_circular_inclusions(\n",
    "    mesh_filename = mesh_filename,\n",
    "    width = 1.,\n",
    "    r = 1./10,\n",
    "    lcar = 1./30,\n",
    "    shift_x = 0.5,\n",
    "    shift_y = 0.5)\n",
    "\n",
    "mesh = dolfin.Mesh(mesh_filename+\".xml\")\n",
    "dolfin.plot(mesh)"
   ]
  },
  {
   "attachments": {},
   "cell_type": "markdown",
   "metadata": {},
   "source": [
    "### Rectangle with hexagonal inclusions"
   ]
  },
  {
   "cell_type": "code",
   "execution_count": null,
   "metadata": {},
   "outputs": [],
   "source": [
    "mesh_filename = \"mesh-2D_rectangle_w_hexagonal_inclusions\"\n",
    "\n",
    "gen.generate_mesh_2D_rectangle_w_hexagonal_inclusions(\n",
    "    mesh_filename = mesh_filename,\n",
    "    phi = 0.5,\n",
    "    R = 0.1,\n",
    "    lcar = 1./30)\n",
    "\n",
    "mesh = dolfin.Mesh(mesh_filename+\".xml\")\n",
    "dolfin.plot(mesh)"
   ]
  },
  {
   "attachments": {},
   "cell_type": "markdown",
   "metadata": {},
   "source": [
    "### Rectangle with Voronoi inclusions"
   ]
  },
  {
   "cell_type": "code",
   "execution_count": null,
   "metadata": {},
   "outputs": [],
   "source": [
    "mesh_filename = \"mesh-2D_rectangle_w_voronoi_inclusions\"\n",
    "seeds_filename = \"seeds-2D_rectangle_w_voronoi_inclusions\"\n",
    "\n",
    "gen.generate_seeds_random(\n",
    "    nb_seeds=10,\n",
    "    seeds_filename=seeds_filename)\n",
    "\n",
    "gen.generate_mesh_2D_rectangle_w_voronoi_inclusions(\n",
    "    mesh_filename = mesh_filename,\n",
    "    seeds_filename = seeds_filename,\n",
    "    h = 0.04,\n",
    "    lcar = 0.02,\n",
    "    domain_x = 1.,\n",
    "    domain_y = 1.,\n",
    "    shift_y = 0.,\n",
    "    remove_seeds = False)\n",
    "\n",
    "mesh = dolfin.Mesh(mesh_filename+\".xml\")\n",
    "dolfin.plot(mesh)"
   ]
  },
  {
   "cell_type": "code",
   "execution_count": null,
   "metadata": {},
   "outputs": [],
   "source": [
    "mesh_filename = \"mesh-2D_rectangle_w_voronoi_inclusions\"\n",
    "seeds_filename = \"seeds-2D_rectangle_w_voronoi_inclusions\"\n",
    "\n",
    "gen.generate_seeds_semi_regular(\n",
    "    DoI = 0.,\n",
    "    row = 1,\n",
    "    domain_y = 1.,\n",
    "    seeds_filename=seeds_filename)\n",
    "\n",
    "domain_y = 1.\n",
    "domain_x = domain_y * math.sqrt(3)/1.5/2 # Cannot be changed!\n",
    "\n",
    "gen.generate_mesh_2D_rectangle_w_voronoi_inclusions(\n",
    "    mesh_filename = mesh_filename,\n",
    "    seeds_filename = seeds_filename,\n",
    "    h = 0.01,\n",
    "    lcar = 0.01,\n",
    "    domain_x = domain_x,\n",
    "    domain_y = domain_y,\n",
    "    shift_y = -0.23,\n",
    "    remove_seeds = False)\n",
    "\n",
    "mesh = dolfin.Mesh(mesh_filename+\".xml\")\n",
    "dolfin.plot(mesh)"
   ]
  },
  {
   "cell_type": "code",
   "execution_count": null,
   "metadata": {},
   "outputs": [],
   "source": [
    "mesh_filename = \"mesh-2D_rectangle_w_voronoi_inclusions\"\n",
    "seeds_filename = \"seeds-2D_rectangle_w_voronoi_inclusions\"\n",
    "\n",
    "gen.generate_seeds_semi_regular(\n",
    "    DoI = 0.3,\n",
    "    row = 3,\n",
    "    domain_y = 1.,\n",
    "    seeds_filename=seeds_filename)\n",
    "\n",
    "domain_y = 1.\n",
    "domain_x = domain_y * math.sqrt(3)/1.5 # Cannot be changed!\n",
    "\n",
    "gen.generate_mesh_2D_rectangle_w_voronoi_inclusions(\n",
    "    mesh_filename = mesh_filename,\n",
    "    seeds_filename = seeds_filename,\n",
    "    h = 0.02,\n",
    "    lcar = 0.01,\n",
    "    domain_x = domain_x,\n",
    "    domain_y = domain_y,\n",
    "    shift_y = -0.23,\n",
    "    remove_seeds = False)\n",
    "\n",
    "mesh = dolfin.Mesh(mesh_filename+\".xml\")\n",
    "dolfin.plot(mesh)"
   ]
  },
  {
   "attachments": {},
   "cell_type": "markdown",
   "metadata": {},
   "source": [
    "## 3D"
   ]
  },
  {
   "attachments": {},
   "cell_type": "markdown",
   "metadata": {},
   "source": [
    "### Cube with spherical inclusions"
   ]
  },
  {
   "cell_type": "code",
   "execution_count": null,
   "metadata": {},
   "outputs": [],
   "source": [
    "mesh_filename = \"mesh-3D_cube_w_spherical_inclusions\"\n",
    "\n",
    "gen.generate_mesh_3D_cube_w_spherical_inclusions(\n",
    "    mesh_filename = mesh_filename,\n",
    "    width = 1.,\n",
    "    r = 0.3,\n",
    "    lcar = 0.1)\n",
    "\n",
    "mesh = dolfin.Mesh(mesh_filename+\".xml\")\n",
    "# dolfin.plot(mesh) # Does not work"
   ]
  },
  {
   "attachments": {},
   "cell_type": "markdown",
   "metadata": {},
   "source": [
    "## Cleaning"
   ]
  },
  {
   "cell_type": "code",
   "execution_count": null,
   "metadata": {},
   "outputs": [],
   "source": [
    "os.system(\"rm -rf mesh-*\")\n",
    "os.system(\"rm -rf seeds-*\")"
   ]
  }
 ],
 "metadata": {
  "kernelspec": {
   "display_name": "fenics-2019-py310",
   "language": "python",
   "name": "python3"
  },
  "language_info": {
   "codemirror_mode": {
    "name": "ipython",
    "version": 3
   },
   "file_extension": ".py",
   "mimetype": "text/x-python",
   "name": "python",
   "nbconvert_exporter": "python",
   "pygments_lexer": "ipython3",
   "version": "3.10.5"
  },
  "orig_nbformat": 4
 },
 "nbformat": 4,
 "nbformat_minor": 2
}
